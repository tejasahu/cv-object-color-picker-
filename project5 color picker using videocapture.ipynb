{
 "cells": [
  {
   "cell_type": "code",
   "execution_count": 4,
   "metadata": {},
   "outputs": [],
   "source": [
    "import cv2\n",
    "import numpy as np\n",
    "\n",
    "cap=cv2.VideoCapture(0,cv2.CAP_DSHOW)\n",
    "\n",
    "cv2.namedWindow(\"window\")\n",
    "def nothing(x):\n",
    "    pass\n",
    "\n",
    "cv2.createTrackbar(\"l_H\",\"window\",0,255,nothing)\n",
    "cv2.createTrackbar(\"l_S\",\"window\",0,255,nothing)\n",
    "cv2.createTrackbar(\"l_V\",\"window\",0,255,nothing)\n",
    "\n",
    "cv2.createTrackbar(\"h_H\",\"window\",255,255,nothing)\n",
    "cv2.createTrackbar(\"h_S\",\"window\",255,255,nothing)\n",
    "cv2.createTrackbar(\"h_V\",\"window\",255,255,nothing)\n",
    "\n",
    "while True:\n",
    "    _,frame=cap.read()\n",
    "    \n",
    "    frame=cv2.resize(frame,(400,400))\n",
    "    \n",
    "    hsv=cv2.cvtColor(frame,cv2.COLOR_BGR2HSV)\n",
    "    \n",
    "    l_h=cv2.getTrackbarPos(\"l_H\", \"window\")\n",
    "    l_s=cv2.getTrackbarPos(\"l_S\", \"window\")\n",
    "    l_v=cv2.getTrackbarPos(\"l_V\", \"window\")\n",
    "    \n",
    "    h_h=cv2.getTrackbarPos(\"h_H\", \"window\")\n",
    "    h_s=cv2.getTrackbarPos(\"h_S\", \"window\")\n",
    "    h_v=cv2.getTrackbarPos(\"h_V\", \"window\")\n",
    "    \n",
    "    lb=np.array([l_h,l_s,l_v])\n",
    "    ub=np.array([h_h,h_s,h_v])\n",
    "    \n",
    "    #create mask\n",
    "    mask=cv2.inRange(hsv,lb,ub)\n",
    "        \n",
    "    #filter color of object\n",
    "    res=cv2.bitwise_and(frame,frame,mask=mask)\n",
    "    \n",
    "    \n",
    "    cv2.imshow(\"real image \",frame)\n",
    "    cv2.imshow(\"masking image\",mask)\n",
    "    cv2.imshow(\"result image\",res)\n",
    "    \n",
    "    key = cv2.waitKey(25)\n",
    "    if key == 27:\n",
    "        break\n",
    "cap.release()\n",
    "cv2.destroyAllWindows()\n",
    "   \n",
    "    \n",
    "    \n",
    "    "
   ]
  },
  {
   "cell_type": "code",
   "execution_count": null,
   "metadata": {},
   "outputs": [],
   "source": []
  }
 ],
 "metadata": {
  "kernelspec": {
   "display_name": "Python 3",
   "language": "python",
   "name": "python3"
  },
  "language_info": {
   "codemirror_mode": {
    "name": "ipython",
    "version": 3
   },
   "file_extension": ".py",
   "mimetype": "text/x-python",
   "name": "python",
   "nbconvert_exporter": "python",
   "pygments_lexer": "ipython3",
   "version": "3.7.6"
  }
 },
 "nbformat": 4,
 "nbformat_minor": 4
}
